{
 "cells": [
  {
   "cell_type": "markdown",
   "metadata": {},
   "source": [
    "# 설정값 지정"
   ]
  },
  {
   "cell_type": "markdown",
   "metadata": {},
   "source": [
    "## 필요한 라이브러리"
   ]
  },
  {
   "cell_type": "code",
   "execution_count": 1,
   "metadata": {},
   "outputs": [],
   "source": [
    "import os\n",
    "import yaml"
   ]
  },
  {
   "cell_type": "code",
   "execution_count": 2,
   "metadata": {},
   "outputs": [],
   "source": [
    "class Config(dict):\n",
    "    def __init__(self, config_path):\n",
    "        with open(config_path, 'r') as f:\n",
    "            self._yaml = f.read()\n",
    "            self._dict = yaml.load(self._yaml)\n",
    "            self._dict['PATH'] = os.path.dirname(config_path)\n",
    "\n",
    "    def __getattr__(self, name):\n",
    "        if self._dict.get(name) is not None:\n",
    "            return self._dict[name]\n",
    "\n",
    "        if DEFAULT_CONFIG.get(name) is not None:\n",
    "            return DEFAULT_CONFIG[name]\n",
    "\n",
    "        return None\n",
    "\n",
    "    def print(self):\n",
    "        print('Model configurations:')\n",
    "        print('---------------------------------')\n",
    "        print(self._yaml)\n",
    "        print('')\n",
    "        print('---------------------------------')\n",
    "        print('')\n",
    "        \n",
    "DEFAULT_CONFIG = {\n",
    "    'MODE': 1,                      # 1: train, 2: test, 3: eval\n",
    "    'MODEL': 1,                     # 1: edge model, 2: inpaint model, 3: edge-inpaint model, 4: joint model\n",
    "    'MASK': 3,                      # 1: random block, 2: half, 3: external, 4: (external, random block), 5: (external, random block, half)\n",
    "    'EDGE': 1,                      # 1: canny, 2: external\n",
    "    'NMS': 1,                       # 0: no non-max-suppression, 1: applies non-max-suppression on the external edges by multiplying by Canny\n",
    "    'SEED': 10,                     # random seed\n",
    "    'GPU': [0],                     # list of gpu ids\n",
    "    'DEBUG': 0,                     # turns on debugging mode\n",
    "    'VERBOSE': 0,                   # turns on verbose mode in the output console\n",
    "    \n",
    "    'LR': 0.0001,                   # learning rate\n",
    "    'D2G_LR': 0.1,                  # discriminator/generator learning rate ratio\n",
    "    'BETA1': 0.0,                   # adam optimizer beta1\n",
    "    'BETA2': 0.9,                   # adam optimizer beta2\n",
    "    'BATCH_SIZE': 8,                # input batch size for training\n",
    "    'INPUT_SIZE': 256,              # input image size for training 0 for original size\n",
    "    'SIGMA': 2,                     # standard deviation of the Gaussian filter used in Canny edge detector (0: random, -1: no edge)\n",
    "    'MAX_ITERS': 2e6,               # maximum number of iterations to train the model\n",
    "\n",
    "    'EDGE_THRESHOLD': 0.5,          # edge detection threshold\n",
    "    'L1_LOSS_WEIGHT': 1,            # l1 loss weight\n",
    "    'FM_LOSS_WEIGHT': 10,           # feature-matching loss weight\n",
    "    'STYLE_LOSS_WEIGHT': 1,         # style loss weight\n",
    "    'CONTENT_LOSS_WEIGHT': 1,       # perceptual loss weight\n",
    "    'INPAINT_ADV_LOSS_WEIGHT': 0.01,# adversarial loss weight\n",
    "\n",
    "    'GAN_LOSS': 'nsgan',            # nsgan | lsgan | hinge\n",
    "    'GAN_POOL_SIZE': 0,             # fake images pool size\n",
    "\n",
    "    'SAVE_INTERVAL': 1000,          # how many iterations to wait before saving model (0: never)\n",
    "    'SAMPLE_INTERVAL': 1000,        # how many iterations to wait before sampling (0: never)\n",
    "    'SAMPLE_SIZE': 12,              # number of images to sample\n",
    "    'EVAL_INTERVAL': 0,             # how many iterations to wait before model evaluation (0: never)\n",
    "    'LOG_INTERVAL': 10,             # how many iterations to wait before logging training status (0: never)\n",
    "    'SEG_NETWORK': 0,               # 0:DeepLabV3 resnet 101 segmentation , 1: MASK-R-CNN resnet 101 segmentation\n",
    "}"
   ]
  },
  {
   "cell_type": "markdown",
   "metadata": {},
   "source": [
    "# 데이터셋 함수\n",
    "\n",
    "- data폴더 내에 있는 이미지 파일들로 Segmentation과 Inpainting을 수행할 예정이고, 두 과업은 각각 Pretrained된 모델을 가져와서 사용할 것이다. 또한 위에서 지정한 변수값들을 지정할 것이다."
   ]
  },
  {
   "cell_type": "markdown",
   "metadata": {},
   "source": [
    "### 필요한 라이브러리"
   ]
  },
  {
   "cell_type": "code",
   "execution_count": 3,
   "metadata": {},
   "outputs": [],
   "source": [
    "import cv2\n",
    "import glob\n",
    "import torch\n",
    "import random\n",
    "import numpy as np\n",
    "from PIL import Image\n",
    "from imageio import imread\n",
    "from skimage.feature import canny\n",
    "from torch.utils.data import DataLoader\n",
    "from src.utils import create_mask\n",
    "from skimage.color import rgb2gray, gray2rgb\n",
    "import torchvision.transforms.functional as F"
   ]
  },
  {
   "cell_type": "code",
   "execution_count": 4,
   "metadata": {},
   "outputs": [],
   "source": [
    "class EdgeConnectDataset(torch.utils.data.Dataset):\n",
    "    def __init__(self, config, flist, edge_flist, augment = True, \n",
    "                 training = True):\n",
    "        super(EdgeConnectDataset, self).__init__()\n",
    "        self.augment = augment\n",
    "        self.training = training\n",
    "        self.data = self.load_flist(flist)\n",
    "        self.edge_data = self.load_flist(edge_flist)\n",
    "        \n",
    "        self.input_size = config.INPUT_SIZE\n",
    "        self.sigma = config.SIGMA\n",
    "        self.edge = config.EDGE\n",
    "        self.mask = config.MASK\n",
    "        self.nms = config.NMS\n",
    "        self.device = config.SEG_DEVICE\n",
    "        self.objects = config.OBJECTS\n",
    "        self.segment_net = config.SEG_NETWORK\n",
    "        \n",
    "    def __len__(self):\n",
    "        return len(self.data)\n",
    "    \n",
    "    def __getitem__(self, index):\n",
    "        try:\n",
    "            item = self.load_item(index)\n",
    "        except:\n",
    "            print('loading error : ' + self.data[index])\n",
    "            item = self.load_item(0)\n",
    "            \n",
    "        return item\n",
    "    \n",
    "    def load_item(self, index):\n",
    "        size = self.input_size\n",
    "        \n",
    "        # load image\n",
    "        img = Image.open(self.data[index])\n",
    "        \n",
    "        # gray to rgb\n",
    "        if img.mode != 'RGB':\n",
    "            img = gray2rgb(np.array(img))\n",
    "            img = Image.fromarray(img)\n",
    "            \n",
    "        # resize / crop if needed\n",
    "        img, mask = segmentor(self.segment_net, img, self.device, self.objects)\n",
    "        img = Image.fromarray(img)\n",
    "        img = np.array(img.resize((size, size), Image.ANTIALIAS))\n",
    "        \n",
    "        # create grayscale image\n",
    "        img_gray = rgb2gray(np.array(img))\n",
    "        \n",
    "        # load mask\n",
    "        mask = Image.fromarray(mask)\n",
    "        mask = np.array(mask.resize((size, size), Image.ANTIALIAS))\n",
    "        idx = (mask > 0)\n",
    "        mask[idx] = 255\n",
    "        mask = np.apply_along_axis(fill_gaps, 1, mask) # horizontal padding\n",
    "        mask = np.apply_along_axis(fill_gaps, 0, mask) # vertical padding\n",
    "        \n",
    "        # load edge\n",
    "        edge = self.load_edge(img_gray, index, mask)\n",
    "            \n",
    "        # augment data\n",
    "        if self.augment and np.random.binomial(1, 0.5) > 0:\n",
    "            img = img[:, ::-1, ...]\n",
    "            img_gray = img_gray[:, ::-1, ...]\n",
    "            edge = edge[:, ::-1, ...]\n",
    "            mask = mask[:, ::-1, ...]\n",
    "            \n",
    "        return self.to_tensor(img), self.to_tensor(img_gray), \\\n",
    "                self.to_tensor(edge), self.to_tensor(mask)\n",
    "    \n",
    "    def load_edge(self, img, index, mask):\n",
    "        sigma = self.sigma\n",
    "        \n",
    "        '''\n",
    "        In test mode, images are masked(with masked regions),\n",
    "        using 'mask' parameter prevents canny to detect edges for the masked\n",
    "        regions\n",
    "        '''\n",
    "        mask = None if self.training else (1 - mask / 255).astype(np.bool)\n",
    "        \n",
    "        # canny\n",
    "        if self.edge == 1:\n",
    "            # no edge\n",
    "            if sigma == -1:\n",
    "                return np.zeros(img.shape).astype(np.float)\n",
    "            \n",
    "            # random sigma\n",
    "            if sigma == 0:\n",
    "                sigma = random.randint(1, 4)\n",
    "                \n",
    "            return canny(img, sigma = sigma, mask = mask).astype(np.float)\n",
    "        # external\n",
    "        else:\n",
    "            img_h, img_w = img.shapepe[:2]\n",
    "            edge = imread(self.edge_data[index])\n",
    "            edge = self.resized(edge, img_h, img_w)\n",
    "            \n",
    "            # Non-Max Suppression\n",
    "            if self.nms == 1:\n",
    "                edge = edge * canny(img, sigma = sigma, mask = mask)\n",
    "                \n",
    "            return edge\n",
    "        \n",
    "    \n",
    "    def to_tensor(self, img):\n",
    "        img = Image.fromarray(img)\n",
    "        img_t = F.to_tensor(img).float()\n",
    "        \n",
    "        return img_t\n",
    "    \n",
    "    def load_flist(self, flist):\n",
    "        if isinstance(flist, list):\n",
    "            return flist\n",
    "        \n",
    "        # flist : image file path, image directory path, text file flist path\n",
    "        if isinstance(flist, str):\n",
    "            if os.path.isdir(flist):\n",
    "                flist = list(glob.glob(flist + '/.jpg'))\n",
    "                flist.sort()\n",
    "                \n",
    "                return flist\n",
    "            \n",
    "            if os.path.isfile(flist):\n",
    "                try:\n",
    "                    return np.genfromtxt(flist, dtype = np.str, \n",
    "                                         encoding = 'utf-8')\n",
    "                except:\n",
    "                    return [flist]\n",
    "                \n",
    "        return []\n",
    "    \n",
    "    def create_iterator(self, batch_size):\n",
    "        while True:\n",
    "            sample_loader = DataLoader(\n",
    "                dataset = self,\n",
    "                batch_size = batch_size,\n",
    "                drop_last = True\n",
    "            )\n",
    "            \n",
    "            for item in sample_loader:\n",
    "                yield item"
   ]
  },
  {
   "cell_type": "markdown",
   "metadata": {},
   "source": [
    "# Segmentation 수행\n",
    "- Segmentation에는 Semantic Segmentation과 Instance Segmentation이 있다.\n",
    "- Semantic Segmentation은 이미지 내 모든 Object들에 대해 Instance(person1, person2, ...)를 구분하지 않고 특정 class에 속하는 Object들 모두 같게 Segmentation을 수행한다.\n",
    "- Instance Segmentation은 이미지 내 모든 Object들에 대해 Instance를 구분해서 특정 class에 속하는 Object들 중 Instance별로 다르게 Segmentation을 수행하다."
   ]
  },
  {
   "cell_type": "markdown",
   "metadata": {},
   "source": [
    "## Semantic Segmentation 모델\n",
    "- pretrained된 모델로 FCN(Fully Convolution Network)과 DeeplabV3모델을 사용해서 Semantic Segmentation을 수행할 것이다."
   ]
  },
  {
   "cell_type": "markdown",
   "metadata": {},
   "source": [
    "## 필요한 라이브러리"
   ]
  },
  {
   "cell_type": "code",
   "execution_count": 5,
   "metadata": {},
   "outputs": [],
   "source": [
    "from src.utils import Progbar, create_dir, stitch_images, imsave\n",
    "from torchvision import models\n",
    "import matplotlib.pyplot as plt\n",
    "import torchvision.transforms as transforms"
   ]
  },
  {
   "cell_type": "code",
   "execution_count": 6,
   "metadata": {},
   "outputs": [],
   "source": [
    "fcn = models.segmentation.fcn_resnet101(pretrained = True).eval()\n",
    "dlab = models.segmentation.deeplabv3_resnet101(pretrained = True).eval()"
   ]
  },
  {
   "cell_type": "markdown",
   "metadata": {},
   "source": [
    "# Instance Segmentation 모델\n",
    "- pretrained된 모델로 Mask-R-CNN모델을 사용해서 Instance Segmentation을 수행할 것이다."
   ]
  },
  {
   "cell_type": "code",
   "execution_count": 7,
   "metadata": {},
   "outputs": [],
   "source": [
    "mask_r_cnn = models.detection.maskrcnn_resnet50_fpn(pretrained = 1, \n",
    "                                                    progress = False).eval()"
   ]
  },
  {
   "cell_type": "code",
   "execution_count": 8,
   "metadata": {},
   "outputs": [],
   "source": [
    "def decode_segmap(image,objects,nc=21):\n",
    "                \n",
    "    r = np.zeros_like(image).astype(np.uint8)\n",
    "    for l in objects:\n",
    "        idx = image == l\n",
    "        r[idx] = 255#fill  r with 255 wherever class is 1 and so on\n",
    "    return np.array(r)"
   ]
  },
  {
   "cell_type": "code",
   "execution_count": 9,
   "metadata": {},
   "outputs": [],
   "source": [
    "def fill_gaps(values):\n",
    "    searchval=[255,0,255]\n",
    "    searchval2=[255,0,0,255]\n",
    "    idx=(np.array(np.where((values[:-2]==searchval[0]) & (values[1:-1]==searchval[1]) & (values[2:]==searchval[2])))+1)\n",
    "    idx2=(np.array(np.where((values[:-3]==searchval2[0]) & (values[1:-2]==searchval2[1]) & (values[2:-1]==searchval2[2]) & (values[3:]==searchval2[3])))+1)\n",
    "    idx3=(idx2+1)\n",
    "    new=idx.tolist()+idx2.tolist()+idx3.tolist()\n",
    "    newlist = [item for items in new for item in items]\n",
    "    values[newlist]=255\n",
    "    return values"
   ]
  },
  {
   "cell_type": "code",
   "execution_count": 10,
   "metadata": {},
   "outputs": [],
   "source": [
    "def fill_gaps2(values):\n",
    "    searchval=[0,255]\n",
    "    searchval2=[255,0]\n",
    "    idx=(np.array(np.where((values[:-1]==searchval[0]) & (values[1:]==searchval[1]))))\n",
    "    idx2=(np.array(np.where((values[:-1]==searchval[0]) & (values[1:]==searchval[1])))+1)\n",
    "    \n",
    "    new=idx.tolist()+idx2.tolist()\n",
    "    newlist = [item for items in new for item in items]\n",
    "    values[newlist]=255\n",
    "    return values"
   ]
  },
  {
   "cell_type": "code",
   "execution_count": 11,
   "metadata": {},
   "outputs": [],
   "source": [
    "def fill_gaps2(values):\n",
    "    searchval=[0,255]\n",
    "    searchval2=[255,0]\n",
    "    idx=(np.array(np.where((values[:-1]==searchval[0]) & (values[1:]==searchval[1]))))\n",
    "    idx2=(np.array(np.where((values[:-1]==searchval[0]) & (values[1:]==searchval[1])))+1)\n",
    "    \n",
    "    new=idx.tolist()+idx2.tolist()\n",
    "    newlist = [item for items in new for item in items]\n",
    "    values[newlist]=255\n",
    "    return values"
   ]
  },
  {
   "cell_type": "markdown",
   "metadata": {},
   "source": [
    "# 이미지 전처리\n",
    "- 테스트 이미지이지만 데이터 수가 적기 때문에 데이터 확대 기법을 적용해서 많은 이미지로 과업들을 수행할 수 있도록 하려 했으나 pretrained된 모델로 과업을 수행할 계획이라 전처리 기법을 많이 적용하지 않을 예정이다.\n",
    "- PyTorch에서 제공하는 transforms모듈 내에서 Resize, ToTensor, Normalize함수를 이용해 테스트 이미지들에 대한 전처리를 수행한다.\n",
    "- 백지연"
   ]
  },
  {
   "cell_type": "code",
   "execution_count": 12,
   "metadata": {},
   "outputs": [],
   "source": [
    "def segmentor(seg_net,img,dev,objects):\n",
    "    #plt.imshow(img); plt.show()\n",
    "    if seg_net == 1:\n",
    "        net = mask_r_cnn\n",
    "    else:\n",
    "        net = dlab\n",
    "    if dev == 'cuda':\n",
    "        trf = T.Compose([T.Resize(400),\n",
    "                         T.ToTensor(), \n",
    "                         T.Normalize(mean = [0.485, 0.456, 0.406], \n",
    "                                    std = [0.229, 0.224, 0.225])])\n",
    "    else:\n",
    "        trf = T.Compose([T.Resize(680),\n",
    "                         T.ToTensor(), \n",
    "                         T.Normalize(mean = [0.485, 0.456, 0.406], \n",
    "                                     std = [0.229, 0.224, 0.225])])\n",
    "        \n",
    "    inp = trf(img).unsqueeze(0).to(dev)\n",
    "    out = net.to(dev)(inp)['out']\n",
    "    om = torch.argmax(out.squeeze(), dim = 0).detach().cpu().numpy()\n",
    "    mask = decode_segmap(om,objects)\n",
    "    height,width = mask.shape\n",
    "    img = np.array(img.resize((width, height), Image.ANTIALIAS))\n",
    "\n",
    "\n",
    "    og_img = remove_patch_og(img,mask)\n",
    "    plt.imshow(mask); plt.show()\n",
    "    \n",
    "    return og_img,mask"
   ]
  },
  {
   "cell_type": "code",
   "execution_count": 13,
   "metadata": {
    "scrolled": true
   },
   "outputs": [
    {
     "name": "stderr",
     "output_type": "stream",
     "text": [
      "c:\\users\\rudck\\anaconda3\\envs\\inpainting\\lib\\site-packages\\ipykernel_launcher.py:5: YAMLLoadWarning: calling yaml.load() without Loader=... is deprecated, as the default Loader is unsafe. Please read https://msg.pyyaml.org/load for full details.\n",
      "  \"\"\"\n"
     ]
    }
   ],
   "source": [
    "# 설정값 파일 경로\n",
    "config_path = os.path.join('./checkpoints', 'config.yml')\n",
    "\n",
    "# 설정값 파일 가져오기\n",
    "config = Config(config_path)\n",
    "\n",
    "# 전체 테스트 데이터셋\n",
    "test_dataset = EdgeConnectDataset(config, config.TEST_FLIST, config.TEST_EDGE_FLIST,\n",
    "                            augment = False, training = False)\n",
    "\n",
    "test_loader = DataLoader(dataset = test_dataset, batch_size = 1)  "
   ]
  },
  {
   "cell_type": "code",
   "execution_count": null,
   "metadata": {},
   "outputs": [],
   "source": []
  },
  {
   "cell_type": "code",
   "execution_count": null,
   "metadata": {},
   "outputs": [],
   "source": []
  },
  {
   "cell_type": "markdown",
   "metadata": {},
   "source": [
    "# 변수값 지정"
   ]
  },
  {
   "cell_type": "code",
   "execution_count": 14,
   "metadata": {},
   "outputs": [
    {
     "name": "stdout",
     "output_type": "stream",
     "text": [
      "['data\\\\train_1.jpg' 'data\\\\cat_2.jpg' 'data\\\\cat_4.jpg']\n"
     ]
    }
   ],
   "source": [
    "test_batch_size = 1\n",
    "\n",
    "no_cuda = False\n",
    "\n",
    "# 전체 테스트 데이터 저장경로\n",
    "test_data_paths = glob.glob('data/*.jpg')\n",
    "\n",
    "# 랜덤 인덱스 이용해 랜덤 이미지로 과업 수행\n",
    "rnd_test_datas = np.random.choice(test_data_paths, 3)\n",
    "print(rnd_test_datas)\n",
    "\n",
    "device = 'cuda' if torch.cuda.is_available() else 'cpu'"
   ]
  },
  {
   "cell_type": "code",
   "execution_count": 15,
   "metadata": {},
   "outputs": [],
   "source": [
    "transforms_lst = transforms.Compose([\n",
    "    transforms.Resize(400),\n",
    "    transforms.ToTensor(),\n",
    "    transforms.Normalize(mean = [0.485, 0.456, 0.406], std = [0.229, 0.224, 0.225])\n",
    "])"
   ]
  },
  {
   "cell_type": "code",
   "execution_count": 16,
   "metadata": {},
   "outputs": [],
   "source": [
    "def get_label(path):\n",
    "    return os.path.basename(path).split('_')[0]"
   ]
  },
  {
   "cell_type": "code",
   "execution_count": 17,
   "metadata": {},
   "outputs": [
    {
     "data": {
      "text/plain": [
       "array(['TVmonitor', 'aeroplane', 'bicycle', 'bird', 'boat', 'bottle',\n",
       "       'bus', 'car', 'cat', 'chair', 'cow', 'diningtable', 'dog', 'horse',\n",
       "       'motorbike', 'person', 'pottedplant', 'sheep', 'sofa', 'train'],\n",
       "      dtype='<U11')"
      ]
     },
     "execution_count": 17,
     "metadata": {},
     "output_type": "execute_result"
    }
   ],
   "source": [
    "label_names = [get_label(path) for path in test_data_paths]\n",
    "classes = np.unique(label_names)\n",
    "classes"
   ]
  },
  {
   "cell_type": "code",
   "execution_count": 18,
   "metadata": {},
   "outputs": [],
   "source": [
    "class customDataset(torch.utils.data.Dataset):\n",
    "    def __init__(self, data_paths, transform = None):\n",
    "        self.data_paths = data_paths\n",
    "        self.transform = transform\n",
    "        \n",
    "    def __len__(self):\n",
    "        return len(self.data_paths)\n",
    "    \n",
    "    def __getitem__(self, idx):\n",
    "        path = self.data_paths[idx]\n",
    "        \n",
    "        # Read image\n",
    "        image_pil = Image.open(path)\n",
    "        \n",
    "        if self.transform:\n",
    "            image = self.transform(image_pil)\n",
    "            \n",
    "        return image"
   ]
  },
  {
   "cell_type": "code",
   "execution_count": 19,
   "metadata": {},
   "outputs": [],
   "source": [
    "use_cuda = not no_cuda and torch.cuda.is_available()\n",
    "kwargs = {'num_workers' : 0, 'pin_memory' : True} if use_cuda else {}"
   ]
  },
  {
   "cell_type": "code",
   "execution_count": 20,
   "metadata": {},
   "outputs": [],
   "source": [
    "test_loader = torch.utils.data.DataLoader(\n",
    "    customDataset(rnd_test_datas, transforms_lst),\n",
    "    batch_size = test_batch_size,\n",
    "    shuffle = False,\n",
    "    **kwargs\n",
    ")"
   ]
  },
  {
   "cell_type": "code",
   "execution_count": 21,
   "metadata": {},
   "outputs": [],
   "source": [
    "# fcn = models.segmentation.fcn_resnet101(pretrained = True).eval()\n",
    "dlab = models.segmentation.deeplabv3_resnet101(pretrained = True).eval()"
   ]
  },
  {
   "cell_type": "code",
   "execution_count": 22,
   "metadata": {
    "scrolled": false
   },
   "outputs": [
    {
     "data": {
      "text/plain": [
       "'data\\\\train_1.jpg'"
      ]
     },
     "execution_count": 22,
     "metadata": {},
     "output_type": "execute_result"
    }
   ],
   "source": [
    "image_path = rnd_test_datas[random.randrange(0, len(rnd_test_datas))]\n",
    "image_path"
   ]
  },
  {
   "cell_type": "code",
   "execution_count": 32,
   "metadata": {},
   "outputs": [
    {
     "data": {
      "text/plain": [
       "(682, 1024, 3)"
      ]
     },
     "execution_count": 32,
     "metadata": {},
     "output_type": "execute_result"
    }
   ],
   "source": [
    "image_pil = Image.open(image_path)\n",
    "image = np.array(image_pil)\n",
    "image.shape"
   ]
  },
  {
   "cell_type": "code",
   "execution_count": 24,
   "metadata": {
    "scrolled": false
   },
   "outputs": [],
   "source": [
    "# input_image = transforms_lst(image_pil).unsqueeze(0).to(device)\n",
    "# output = fcn.to(device)(input_image)['out']\n",
    "# output_max = torch.argmax(output.squeeze(), dim = 0).detach().cpu().numpy()\n",
    "\n",
    "# plt.imshow(output_max)\n",
    "# plt.show()"
   ]
  },
  {
   "cell_type": "code",
   "execution_count": 25,
   "metadata": {},
   "outputs": [
    {
     "name": "stderr",
     "output_type": "stream",
     "text": [
      "c:\\users\\rudck\\anaconda3\\envs\\inpainting\\lib\\site-packages\\torch\\nn\\functional.py:718: UserWarning: Named tensors and all their associated APIs are an experimental feature and subject to change. Please do not use them for anything important until they are released as stable. (Triggered internally at  ..\\c10/core/TensorImpl.h:1156.)\n",
      "  return torch.max_pool2d(input, kernel_size, stride, padding, dilation, ceil_mode)\n"
     ]
    },
    {
     "data": {
      "image/png": "[encoded data removed]",
      "text/plain": [
       "<Figure size 432x288 with 1 Axes>"
      ]
     },
     "metadata": {
      "needs_background": "light"
     },
     "output_type": "display_data"
    }
   ],
   "source": [
    "input_image = transforms_lst(image_pil).unsqueeze(0).to(device)\n",
    "output = dlab.to(device)(input_image)['out']\n",
    "output_max = torch.argmax(output.squeeze(), dim = 0).detach().cpu().numpy()\n",
    "\n",
    "plt.imshow(output_max)\n",
    "plt.show()"
   ]
  },
  {
   "cell_type": "code",
   "execution_count": null,
   "metadata": {},
   "outputs": [],
   "source": []
  },
  {
   "cell_type": "code",
   "execution_count": null,
   "metadata": {},
   "outputs": [],
   "source": []
  },
  {
   "cell_type": "code",
   "execution_count": 33,
   "metadata": {},
   "outputs": [
    {
     "name": "stderr",
     "output_type": "stream",
     "text": [
      "c:\\users\\rudck\\anaconda3\\envs\\inpainting\\lib\\site-packages\\torch\\nn\\functional.py:718: UserWarning: Named tensors and all their associated APIs are an experimental feature and subject to change. Please do not use them for anything important until they are released as stable. (Triggered internally at  ..\\c10/core/TensorImpl.h:1156.)\n",
      "  return torch.max_pool2d(input, kernel_size, stride, padding, dilation, ceil_mode)\n"
     ]
    },
    {
     "ename": "TypeError",
     "evalue": "list indices must be integers or slices, not str",
     "output_type": "error",
     "traceback": [
      "\u001b[1;31m---------------------------------------------------------------------------\u001b[0m",
      "\u001b[1;31mTypeError\u001b[0m                                 Traceback (most recent call last)",
      "\u001b[1;32m~\\AppData\\Local\\Temp/ipykernel_12736/2875283700.py\u001b[0m in \u001b[0;36m<module>\u001b[1;34m\u001b[0m\n\u001b[0;32m      1\u001b[0m \u001b[0minput_image\u001b[0m \u001b[1;33m=\u001b[0m \u001b[0mtransforms_lst\u001b[0m\u001b[1;33m(\u001b[0m\u001b[0mimage_pil\u001b[0m\u001b[1;33m)\u001b[0m\u001b[1;33m.\u001b[0m\u001b[0munsqueeze\u001b[0m\u001b[1;33m(\u001b[0m\u001b[1;36m0\u001b[0m\u001b[1;33m)\u001b[0m\u001b[1;33m.\u001b[0m\u001b[0mto\u001b[0m\u001b[1;33m(\u001b[0m\u001b[0mdevice\u001b[0m\u001b[1;33m)\u001b[0m\u001b[1;33m\u001b[0m\u001b[1;33m\u001b[0m\u001b[0m\n\u001b[1;32m----> 2\u001b[1;33m \u001b[0moutput\u001b[0m \u001b[1;33m=\u001b[0m \u001b[0mmask_r_cnn\u001b[0m\u001b[1;33m.\u001b[0m\u001b[0mto\u001b[0m\u001b[1;33m(\u001b[0m\u001b[0mdevice\u001b[0m\u001b[1;33m)\u001b[0m\u001b[1;33m(\u001b[0m\u001b[0minput_image\u001b[0m\u001b[1;33m)\u001b[0m\u001b[1;33m[\u001b[0m\u001b[1;34m'out'\u001b[0m\u001b[1;33m]\u001b[0m\u001b[1;33m\u001b[0m\u001b[1;33m\u001b[0m\u001b[0m\n\u001b[0m\u001b[0;32m      3\u001b[0m \u001b[0moutput_max\u001b[0m \u001b[1;33m=\u001b[0m \u001b[0mtorch\u001b[0m\u001b[1;33m.\u001b[0m\u001b[0margmax\u001b[0m\u001b[1;33m(\u001b[0m\u001b[0moutput\u001b[0m\u001b[1;33m.\u001b[0m\u001b[0msqueeze\u001b[0m\u001b[1;33m(\u001b[0m\u001b[1;33m)\u001b[0m\u001b[1;33m,\u001b[0m \u001b[0mdim\u001b[0m \u001b[1;33m=\u001b[0m \u001b[1;36m0\u001b[0m\u001b[1;33m)\u001b[0m\u001b[1;33m.\u001b[0m\u001b[0mdetach\u001b[0m\u001b[1;33m(\u001b[0m\u001b[1;33m)\u001b[0m\u001b[1;33m.\u001b[0m\u001b[0mcpu\u001b[0m\u001b[1;33m(\u001b[0m\u001b[1;33m)\u001b[0m\u001b[1;33m.\u001b[0m\u001b[0mnumpy\u001b[0m\u001b[1;33m(\u001b[0m\u001b[1;33m)\u001b[0m\u001b[1;33m\u001b[0m\u001b[1;33m\u001b[0m\u001b[0m\n\u001b[0;32m      4\u001b[0m \u001b[1;33m\u001b[0m\u001b[0m\n\u001b[0;32m      5\u001b[0m \u001b[0mplt\u001b[0m\u001b[1;33m.\u001b[0m\u001b[0mimshow\u001b[0m\u001b[1;33m(\u001b[0m\u001b[0moutput_max\u001b[0m\u001b[1;33m)\u001b[0m\u001b[1;33m\u001b[0m\u001b[1;33m\u001b[0m\u001b[0m\n",
      "\u001b[1;31mTypeError\u001b[0m: list indices must be integers or slices, not str"
     ]
    }
   ],
   "source": [
    "input_image = transforms_lst(image_pil).unsqueeze(0).to(device)\n",
    "output = mask_r_cnn.to(device)(input_image)['out']\n",
    "output_max = torch.argmax(output.squeeze(), dim = 0).detach().cpu().numpy()\n",
    "\n",
    "plt.imshow(output_max)\n",
    "plt.show()"
   ]
  },
  {
   "cell_type": "code",
   "execution_count": 26,
   "metadata": {},
   "outputs": [],
   "source": [
    "def decode_segmap(image,objects,nc=21):\n",
    "                \n",
    "    r = np.zeros_like(image).astype(np.uint8)\n",
    "    for l in objects:\n",
    "        idx = image == l\n",
    "        r[idx] = 255#fill  r with 255 wherever class is 1 and so on\n",
    "    return np.array(r)"
   ]
  },
  {
   "cell_type": "code",
   "execution_count": 27,
   "metadata": {},
   "outputs": [],
   "source": [
    "def remove_patch_og(real_img,mask):\n",
    "    og_data = real_img.copy()\n",
    "    idx = mask == 255  ### cutting out mask part from real image here\n",
    "    og_data[idx] =255\n",
    "    return og_data"
   ]
  },
  {
   "cell_type": "code",
   "execution_count": null,
   "metadata": {},
   "outputs": [],
   "source": []
  },
  {
   "cell_type": "code",
   "execution_count": null,
   "metadata": {},
   "outputs": [],
   "source": []
  },
  {
   "cell_type": "code",
   "execution_count": null,
   "metadata": {},
   "outputs": [],
   "source": [
    "sem_classes = [\n",
    "    '__background__', 'aeroplane', 'bicycle', 'bird', 'boat', 'bottle', 'bus',\n",
    "    'car', 'cat', 'chair', 'cow', 'diningtable', 'dog', 'horse', 'motorbike',\n",
    "    'person', 'pottedplant', 'sheep', 'sofa', 'train', 'tvmonitor'\n",
    "]\n",
    "sem_class_to_idx = {cls: idx for (idx, cls) in enumerate(sem_classes)}"
   ]
  },
  {
   "cell_type": "code",
   "execution_count": null,
   "metadata": {},
   "outputs": [],
   "source": [
    "from torchvision.models.detection import maskrcnn_resnet50_fpn\n",
    "\n",
    "mask_r_cnn = maskrcnn_resnet50_fpn(pretrained = True, progress = False)\n",
    "mask_r_cnn = mask_r_cnn.eval()\n",
    "\n",
    "output = mask_r_cnn(batch)\n",
    "output"
   ]
  },
  {
   "cell_type": "code",
   "execution_count": null,
   "metadata": {},
   "outputs": [],
   "source": [
    "inst_classes = [\n",
    "    '__background__', 'person', 'bicycle', 'car', 'motorcycle', 'airplane', 'bus',\n",
    "    'train', 'truck', 'boat', 'traffic light', 'fire hydrant', 'N/A', 'stop sign',\n",
    "    'parking meter', 'bench', 'bird', 'cat', 'dog', 'horse', 'sheep', 'cow',\n",
    "    'elephant', 'bear', 'zebra', 'giraffe', 'N/A', 'backpack', 'umbrella', 'N/A', 'N/A',\n",
    "    'handbag', 'tie', 'suitcase', 'frisbee', 'skis', 'snowboard', 'sports ball',\n",
    "    'kite', 'baseball bat', 'baseball glove', 'skateboard', 'surfboard', 'tennis racket',\n",
    "    'bottle', 'N/A', 'wine glass', 'cup', 'fork', 'knife', 'spoon', 'bowl',\n",
    "    'banana', 'apple', 'sandwich', 'orange', 'broccoli', 'carrot', 'hot dog', 'pizza',\n",
    "    'donut', 'cake', 'chair', 'couch', 'potted plant', 'bed', 'N/A', 'dining table',\n",
    "    'N/A', 'N/A', 'toilet', 'N/A', 'tv', 'laptop', 'mouse', 'remote', 'keyboard', 'cell phone',\n",
    "    'microwave', 'oven', 'toaster', 'sink', 'refrigerator', 'N/A', 'book',\n",
    "    'clock', 'vase', 'scissors', 'teddy bear', 'hair drier', 'toothbrush'\n",
    "]\n",
    "\n",
    "inst_class_to_idx = {cls : idx for (idx, cls) in enumerate(inst_classes)}"
   ]
  },
  {
   "cell_type": "code",
   "execution_count": null,
   "metadata": {},
   "outputs": [],
   "source": [
    "len(output)"
   ]
  },
  {
   "cell_type": "code",
   "execution_count": null,
   "metadata": {},
   "outputs": [],
   "source": [
    "person_output, bicycle_output = output[0], output[1]\n",
    "person_masks, bicycle_masks = person_output['masks'], bicycle_output['masks']\n",
    "print(f'shape = {person_masks.shape}, dtype = {bicycle_masks.dtype}, '\n",
    "      f'min = {person_masks.min()}, max = {bicycle_masks.max()}')"
   ]
  },
  {
   "cell_type": "code",
   "execution_count": null,
   "metadata": {},
   "outputs": [],
   "source": [
    "inst_classes = [\n",
    "    '__background__', 'person', 'bicycle', 'car', 'motorcycle', 'airplane', 'bus',\n",
    "    'train', 'truck', 'boat', 'traffic light', 'fire hydrant', 'N/A', 'stop sign',\n",
    "    'parking meter', 'bench', 'bird', 'cat', 'dog', 'horse', 'sheep', 'cow',\n",
    "    'elephant', 'bear', 'zebra', 'giraffe', 'N/A', 'backpack', 'umbrella', 'N/A', 'N/A',\n",
    "    'handbag', 'tie', 'suitcase', 'frisbee', 'skis', 'snowboard', 'sports ball',\n",
    "    'kite', 'baseball bat', 'baseball glove', 'skateboard', 'surfboard', 'tennis racket',\n",
    "    'bottle', 'N/A', 'wine glass', 'cup', 'fork', 'knife', 'spoon', 'bowl',\n",
    "    'banana', 'apple', 'sandwich', 'orange', 'broccoli', 'carrot', 'hot dog', 'pizza',\n",
    "    'donut', 'cake', 'chair', 'couch', 'potted plant', 'bed', 'N/A', 'dining table',\n",
    "    'N/A', 'N/A', 'toilet', 'N/A', 'tv', 'laptop', 'mouse', 'remote', 'keyboard', 'cell phone',\n",
    "    'microwave', 'oven', 'toaster', 'sink', 'refrigerator', 'N/A', 'book',\n",
    "    'clock', 'vase', 'scissors', 'teddy bear', 'hair drier', 'toothbrush'\n",
    "]\n",
    "\n",
    "inst_class_to_idx = {cls : idx for (idx, cls) in enumerate(inst_classes)}\n",
    "\n",
    "print('For the first person, the following instances were detected : ')\n",
    "print([inst_classes[label] for label in person_output['labels']])"
   ]
  },
  {
   "cell_type": "code",
   "execution_count": null,
   "metadata": {},
   "outputs": [],
   "source": [
    "proba_threshold = 0.5\n",
    "person_bool_masks = person_output['masks'] > proba_threshold\n",
    "print(f'shape = {person_bool_masks.shape}, dtype = {person_bool_masks.dtype}')\n",
    "\n",
    "person_bool_masks = person_bool_masks.squeeze(1)\n",
    "\n",
    "show(draw_segmentation_masks(person1_int, person_bool_masks, alpha = 0.9))"
   ]
  },
  {
   "cell_type": "code",
   "execution_count": null,
   "metadata": {},
   "outputs": [],
   "source": [
    "bicycle_bool_masks = bicycle_output['masks'] > proba_threshold\n",
    "print(f'shape = {bicycle_bool_masks.shape}, dtype = {bicycle_bool_masks.dtype}')\n",
    "\n",
    "bicycle_bool_masks = bicycle_bool_masks.squeeze(1)\n",
    "\n",
    "show(draw_segmentation_masks(bicycle1_int, bicycle_bool_masks, alpha = 0.9))"
   ]
  },
  {
   "cell_type": "markdown",
   "metadata": {},
   "source": [
    "# Inpainting 수행"
   ]
  },
  {
   "cell_type": "code",
   "execution_count": null,
   "metadata": {},
   "outputs": [],
   "source": []
  }
 ],
 "metadata": {
  "kernelspec": {
   "display_name": "Python 3 (ipykernel)",
   "language": "python",
   "name": "python3"
  },
  "language_info": {
   "codemirror_mode": {
    "name": "ipython",
    "version": 3
   },
   "file_extension": ".py",
   "mimetype": "text/x-python",
   "name": "python",
   "nbconvert_exporter": "python",
   "pygments_lexer": "ipython3",
   "version": "3.7.11"
  }
 },
 "nbformat": 4,
 "nbformat_minor": 4
}
